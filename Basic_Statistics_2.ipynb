{
 "cells": [
  {
   "cell_type": "markdown",
   "id": "c6657faa-7428-4cfb-9058-e788233ee1da",
   "metadata": {},
   "source": [
    "#### Estimation And Confidence Intervals"
   ]
  },
  {
   "cell_type": "markdown",
   "id": "b5c34234-f749-4ffa-bfd3-5bc0e535022a",
   "metadata": {},
   "source": [
    "* Data\n",
    "A total of 15 print-heads were randomly selected and tested until failure. The durability of each print-head (in millions of characters) was recorded as follows:\n",
    "1.13, 1.55, 1.43, 0.92, 1.25, 1.36, 1.32, 0.85, 1.07, 1.48, 1.20, 1.33, 1.18, 1.22, 1.29\n"
   ]
  },
  {
   "cell_type": "markdown",
   "id": "b668076f-9b77-4600-b4e7-9d97174aed28",
   "metadata": {},
   "source": [
    "#### 1)  Build 99% Confidence Interval Using Sample Standard Deviation :"
   ]
  },
  {
   "cell_type": "code",
   "execution_count": 2,
   "id": "2228074a-b33f-4cde-8db9-40ca2d46eedd",
   "metadata": {},
   "outputs": [],
   "source": [
    "import pandas as pd\n",
    "import numpy as np\n",
    "import scipy as sc\n",
    "import scipy.stats as st"
   ]
  },
  {
   "cell_type": "code",
   "execution_count": null,
   "id": "49d45754-3bff-4687-818a-6b58e7e2fe9b",
   "metadata": {},
   "outputs": [],
   "source": [
    "#Durability of print-heads (in millions of characters)"
   ]
  },
  {
   "cell_type": "code",
   "execution_count": 3,
   "id": "920890e4-3cb0-432c-ba11-9b606de9ab8d",
   "metadata": {},
   "outputs": [],
   "source": [
    "data= [1.13, 1.55, 1.43, 0.92, 1.25, 1.36, 1.32, 0.85, 1.07, 1.48, 1.20, 1.33, 1.18, 1.22, 1.29]"
   ]
  },
  {
   "cell_type": "code",
   "execution_count": 4,
   "id": "5ef135d0-dfa2-4e54-bd13-8b7c0eb59fd7",
   "metadata": {},
   "outputs": [
    {
     "data": {
      "text/plain": [
       "[1.13,\n",
       " 1.55,\n",
       " 1.43,\n",
       " 0.92,\n",
       " 1.25,\n",
       " 1.36,\n",
       " 1.32,\n",
       " 0.85,\n",
       " 1.07,\n",
       " 1.48,\n",
       " 1.2,\n",
       " 1.33,\n",
       " 1.18,\n",
       " 1.22,\n",
       " 1.29]"
      ]
     },
     "execution_count": 4,
     "metadata": {},
     "output_type": "execute_result"
    }
   ],
   "source": [
    "data"
   ]
  },
  {
   "cell_type": "code",
   "execution_count": null,
   "id": "8236c513-2fb4-493b-ad4c-3e9de942cf3f",
   "metadata": {},
   "outputs": [],
   "source": [
    "#calculate sample mean "
   ]
  },
  {
   "cell_type": "code",
   "execution_count": 5,
   "id": "b984fe13-71f8-4460-85dd-9f5eb340cca6",
   "metadata": {},
   "outputs": [
    {
     "data": {
      "text/plain": [
       "1.2386666666666666"
      ]
     },
     "execution_count": 5,
     "metadata": {},
     "output_type": "execute_result"
    }
   ],
   "source": [
    "np.mean(data)"
   ]
  },
  {
   "cell_type": "code",
   "execution_count": 6,
   "id": "fc02e517-5f9b-4ef0-820d-d2ddf7fc5baf",
   "metadata": {},
   "outputs": [
    {
     "data": {
      "text/plain": [
       "1.2386666666666666"
      ]
     },
     "execution_count": 6,
     "metadata": {},
     "output_type": "execute_result"
    }
   ],
   "source": [
    "mean= np.mean(data)\n",
    "mean"
   ]
  },
  {
   "cell_type": "code",
   "execution_count": null,
   "id": "00c061ba-9d9c-4512-885a-14093d8c2909",
   "metadata": {},
   "outputs": [],
   "source": [
    "#calculate sample standard deviation"
   ]
  },
  {
   "cell_type": "code",
   "execution_count": 7,
   "id": "f27b45cb-6af0-4ccc-8427-71adc568909f",
   "metadata": {},
   "outputs": [
    {
     "data": {
      "text/plain": [
       "0.18661427836285438"
      ]
     },
     "execution_count": 7,
     "metadata": {},
     "output_type": "execute_result"
    }
   ],
   "source": [
    "np.std(data)"
   ]
  },
  {
   "cell_type": "code",
   "execution_count": 8,
   "id": "542a5f73-fcf7-4167-adea-5d3b3e14dbb3",
   "metadata": {},
   "outputs": [
    {
     "data": {
      "text/plain": [
       "0.18661427836285438"
      ]
     },
     "execution_count": 8,
     "metadata": {},
     "output_type": "execute_result"
    }
   ],
   "source": [
    "std_dev=np.std(data)\n",
    "std_dev"
   ]
  },
  {
   "cell_type": "code",
   "execution_count": 10,
   "id": "0a99bd0e-d209-450a-9d79-a445984c4481",
   "metadata": {},
   "outputs": [
    {
     "data": {
      "text/plain": [
       "15"
      ]
     },
     "execution_count": 10,
     "metadata": {},
     "output_type": "execute_result"
    }
   ],
   "source": [
    "n=len(data)\n",
    "n"
   ]
  },
  {
   "cell_type": "code",
   "execution_count": null,
   "id": "7e1dfab5-5e17-4656-96d1-e45017718a4c",
   "metadata": {},
   "outputs": [],
   "source": [
    "#degree of freedom "
   ]
  },
  {
   "cell_type": "code",
   "execution_count": 11,
   "id": "6303eb7e-2418-47ee-b992-937244a4c2fa",
   "metadata": {},
   "outputs": [
    {
     "data": {
      "text/plain": [
       "14"
      ]
     },
     "execution_count": 11,
     "metadata": {},
     "output_type": "execute_result"
    }
   ],
   "source": [
    "degree_freedom= n-1\n",
    "degree_freedom"
   ]
  },
  {
   "cell_type": "code",
   "execution_count": null,
   "id": "06b5be3d-b212-416c-8747-bf6b489daad2",
   "metadata": {},
   "outputs": [],
   "source": [
    " #Determine the t-critical value for a 99% confidence interval"
   ]
  },
  {
   "cell_type": "code",
   "execution_count": 12,
   "id": "ef15ce15-a545-444e-886d-e541059a73b7",
   "metadata": {},
   "outputs": [],
   "source": [
    "confidence_level=0.99"
   ]
  },
  {
   "cell_type": "code",
   "execution_count": 14,
   "id": "85d9fda9-7061-40d0-a3a2-92f771cd9008",
   "metadata": {},
   "outputs": [
    {
     "data": {
      "text/plain": [
       "2.97684273411266"
      ]
     },
     "execution_count": 14,
     "metadata": {},
     "output_type": "execute_result"
    }
   ],
   "source": [
    "t_critical= st.t.ppf((1+confidence_level)/2,degree_freedom)\n",
    "t_critical"
   ]
  },
  {
   "cell_type": "code",
   "execution_count": null,
   "id": "212a3bc7-9b4c-43a8-8097-3407d2f229b2",
   "metadata": {},
   "outputs": [],
   "source": [
    "#calculate margin of error"
   ]
  },
  {
   "cell_type": "code",
   "execution_count": 15,
   "id": "f01b1497-6e8c-4e7a-9876-67323e9b2d73",
   "metadata": {},
   "outputs": [
    {
     "data": {
      "text/plain": [
       "0.14343499802810397"
      ]
     },
     "execution_count": 15,
     "metadata": {},
     "output_type": "execute_result"
    }
   ],
   "source": [
    "margin_error=t_critical*(std_dev/np.sqrt(n))\n",
    "margin_error"
   ]
  },
  {
   "cell_type": "code",
   "execution_count": null,
   "id": "088a9f05-6a08-4df3-91a9-42911068aa41",
   "metadata": {},
   "outputs": [],
   "source": [
    "#confidence interval"
   ]
  },
  {
   "cell_type": "code",
   "execution_count": 16,
   "id": "6ad8c6b2-c2ed-4bee-ad0f-8a872ae3ab5d",
   "metadata": {},
   "outputs": [
    {
     "data": {
      "text/plain": [
       "(1.0952316686385626, 1.3821016646947706)"
      ]
     },
     "execution_count": 16,
     "metadata": {},
     "output_type": "execute_result"
    }
   ],
   "source": [
    "confidence_interval=(mean-margin_error,mean+margin_error)\n",
    "confidence_interval"
   ]
  },
  {
   "cell_type": "markdown",
   "id": "454b341d-8f14-4fdc-95f8-5ab8062940d3",
   "metadata": {},
   "source": [
    " #### 2.Build 99% Confidence Interval Using Known Population Standard Deviation:"
   ]
  },
  {
   "cell_type": "code",
   "execution_count": null,
   "id": "5d72f03e-0ef9-40f4-ac3f-50b69f271eb5",
   "metadata": {},
   "outputs": [],
   "source": [
    "#Durability of print-heads (in millions of characters)"
   ]
  },
  {
   "cell_type": "code",
   "execution_count": 18,
   "id": "a541777d-db7e-4fd5-ae69-4d80309eeb40",
   "metadata": {},
   "outputs": [],
   "source": [
    "data= [1.13, 1.55, 1.43, 0.92, 1.25, 1.36, 1.32, 0.85, 1.07, 1.48, 1.20, 1.33, 1.18, 1.22, 1.29]"
   ]
  },
  {
   "cell_type": "code",
   "execution_count": 19,
   "id": "3208e30d-239c-4a6e-b906-2e86c350c362",
   "metadata": {},
   "outputs": [
    {
     "data": {
      "text/plain": [
       "[1.13,\n",
       " 1.55,\n",
       " 1.43,\n",
       " 0.92,\n",
       " 1.25,\n",
       " 1.36,\n",
       " 1.32,\n",
       " 0.85,\n",
       " 1.07,\n",
       " 1.48,\n",
       " 1.2,\n",
       " 1.33,\n",
       " 1.18,\n",
       " 1.22,\n",
       " 1.29]"
      ]
     },
     "execution_count": 19,
     "metadata": {},
     "output_type": "execute_result"
    }
   ],
   "source": [
    "data"
   ]
  },
  {
   "cell_type": "code",
   "execution_count": null,
   "id": "d1114096-93ca-46d9-a6e6-4e7914c4f432",
   "metadata": {},
   "outputs": [],
   "source": [
    "# calculate mean "
   ]
  },
  {
   "cell_type": "code",
   "execution_count": 20,
   "id": "e3248d96-b502-41e0-b13c-25d267512140",
   "metadata": {},
   "outputs": [
    {
     "data": {
      "text/plain": [
       "1.2386666666666666"
      ]
     },
     "execution_count": 20,
     "metadata": {},
     "output_type": "execute_result"
    }
   ],
   "source": [
    "mean=np.mean(data)\n",
    "mean"
   ]
  },
  {
   "cell_type": "code",
   "execution_count": 22,
   "id": "386b4900-85b5-48d7-b3cc-430463042c7c",
   "metadata": {},
   "outputs": [
    {
     "data": {
      "text/plain": [
       "15"
      ]
     },
     "execution_count": 22,
     "metadata": {},
     "output_type": "execute_result"
    }
   ],
   "source": [
    "n=len(data)\n",
    "n"
   ]
  },
  {
   "cell_type": "code",
   "execution_count": null,
   "id": "2fd8f0d2-8cf0-432a-8c38-83bdb04d8bdc",
   "metadata": {},
   "outputs": [],
   "source": [
    "# given population standard deviation"
   ]
  },
  {
   "cell_type": "code",
   "execution_count": 23,
   "id": "7ab99581-7718-4c2c-85fd-552224a8ef43",
   "metadata": {},
   "outputs": [],
   "source": [
    "pop_std_dev= 0.2"
   ]
  },
  {
   "cell_type": "code",
   "execution_count": 24,
   "id": "2b246683-7f4a-4aca-bfd8-6640c8407072",
   "metadata": {},
   "outputs": [],
   "source": [
    "confidence_level= 0.99"
   ]
  },
  {
   "cell_type": "code",
   "execution_count": null,
   "id": "62cee327-655e-4e7e-ba9c-14c382d9b167",
   "metadata": {},
   "outputs": [],
   "source": [
    "# determine z-critical value for a 99% confidence interval"
   ]
  },
  {
   "cell_type": "code",
   "execution_count": 25,
   "id": "813e3a04-9399-41f0-8fd1-a313c45bec41",
   "metadata": {},
   "outputs": [
    {
     "data": {
      "text/plain": [
       "2.5758293035489004"
      ]
     },
     "execution_count": 25,
     "metadata": {},
     "output_type": "execute_result"
    }
   ],
   "source": [
    "z_critical=st.norm.ppf((1+confidence_level)/2)\n",
    "z_critical"
   ]
  },
  {
   "cell_type": "code",
   "execution_count": null,
   "id": "aecf35a4-1624-4d61-b57b-0cdffb5c54f5",
   "metadata": {},
   "outputs": [],
   "source": [
    "#Margin of error using population standard deviation"
   ]
  },
  {
   "cell_type": "code",
   "execution_count": 27,
   "id": "53c4680c-7ebb-41ef-a32e-7e8b9ca8b504",
   "metadata": {},
   "outputs": [
    {
     "data": {
      "text/plain": [
       "0.13301525327090588"
      ]
     },
     "execution_count": 27,
     "metadata": {},
     "output_type": "execute_result"
    }
   ],
   "source": [
    "margin_error_p=z_critical*(pop_std_dev/np.sqrt(n))\n",
    "margin_error_p"
   ]
  },
  {
   "cell_type": "code",
   "execution_count": null,
   "id": "99985483-346a-48a2-95b6-0d84f349a31c",
   "metadata": {},
   "outputs": [],
   "source": [
    "# confidence interval"
   ]
  },
  {
   "cell_type": "code",
   "execution_count": 28,
   "id": "fd0b4754-b25a-49ad-9e10-9faf75cbd06e",
   "metadata": {},
   "outputs": [],
   "source": [
    "confidence_interval_p=(mean-margin_error_p,mean+margin_error_p)"
   ]
  },
  {
   "cell_type": "code",
   "execution_count": 29,
   "id": "c3869c1e-aca0-4017-8201-6f81ac81f5d5",
   "metadata": {},
   "outputs": [
    {
     "data": {
      "text/plain": [
       "(1.1056514133957607, 1.3716819199375725)"
      ]
     },
     "execution_count": 29,
     "metadata": {},
     "output_type": "execute_result"
    }
   ],
   "source": [
    "confidence_interval_p"
   ]
  },
  {
   "cell_type": "code",
   "execution_count": null,
   "id": "9a59ba70-952a-4934-aa9c-7ccd33321df9",
   "metadata": {},
   "outputs": [],
   "source": []
  },
  {
   "cell_type": "code",
   "execution_count": null,
   "id": "a3cfc04f-668a-416a-b7be-4a0486c21bf1",
   "metadata": {},
   "outputs": [],
   "source": []
  }
 ],
 "metadata": {
  "kernelspec": {
   "display_name": "Python 3 (ipykernel)",
   "language": "python",
   "name": "python3"
  },
  "language_info": {
   "codemirror_mode": {
    "name": "ipython",
    "version": 3
   },
   "file_extension": ".py",
   "mimetype": "text/x-python",
   "name": "python",
   "nbconvert_exporter": "python",
   "pygments_lexer": "ipython3",
   "version": "3.11.7"
  }
 },
 "nbformat": 4,
 "nbformat_minor": 5
}
