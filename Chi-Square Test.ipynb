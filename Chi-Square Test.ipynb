{
 "cells": [
  {
   "cell_type": "markdown",
   "id": "003ec0bc-9839-4ba9-bb26-808e0c33e5c7",
   "metadata": {},
   "source": [
    "### Chi-Square Test"
   ]
  },
  {
   "cell_type": "code",
   "execution_count": 1,
   "id": "3079841f-23ed-4c26-99c8-00919563cc0f",
   "metadata": {},
   "outputs": [],
   "source": [
    "import numpy as np\n",
    "import scipy.stats as st"
   ]
  },
  {
   "cell_type": "markdown",
   "id": "d22d0446-85ad-4a09-b58d-43f67c068483",
   "metadata": {},
   "source": [
    "### State the Hypothesis Statement\n",
    " Null Hypothesis(H0): There is no association between the type of smart home device (Smart Thermostat vs. Smart Light) and customer satisfaction level. They are independent.\n",
    " \n",
    " Alternative Hypothesis(HA) : There is an association between the type of smart home device (Smart Thermostat vs. Smart Light) and customer satisfaction level. They are dependent."
   ]
  },
  {
   "cell_type": "code",
   "execution_count": 3,
   "id": "fd481404-599d-4a3e-9bfe-b9b4d18d0910",
   "metadata": {},
   "outputs": [],
   "source": [
    "# Observed frequencies (contingency table)\n",
    "observed = np.array([\n",
    "    [50, 70],  # Very Satisfied\n",
    "    [80, 100],  # Satisfied\n",
    "    [60, 90],  # Neutral\n",
    "    [30, 50],  # Unsatisfied\n",
    "    [20, 50]   # Very Unsatisfied\n",
    "])"
   ]
  },
  {
   "cell_type": "code",
   "execution_count": 4,
   "id": "6ffe2d2a-2eeb-46ac-9421-ec4d8c0aee50",
   "metadata": {},
   "outputs": [],
   "source": [
    "# Row totals and column totals\n",
    "row_totals = observed.sum(axis=1)\n",
    "col_totals = observed.sum(axis=0)\n",
    "grand_total = observed.sum()"
   ]
  },
  {
   "cell_type": "code",
   "execution_count": 6,
   "id": "d2ba232f-0875-4b19-bd71-7eb39fb7aaf9",
   "metadata": {},
   "outputs": [
    {
     "name": "stdout",
     "output_type": "stream",
     "text": [
      "Expected frequencies:\n",
      " [[ 48.  72.]\n",
      " [ 72. 108.]\n",
      " [ 60.  90.]\n",
      " [ 32.  48.]\n",
      " [ 28.  42.]]\n"
     ]
    }
   ],
   "source": [
    "#Compute the expected frequencies\n",
    "expected = np.outer(row_totals, col_totals) / grand_total\n",
    "print(\"Expected frequencies:\\n\", expected)"
   ]
  },
  {
   "cell_type": "code",
   "execution_count": 7,
   "id": "b943efe2-cffb-45ef-9ff9-bb7de5ff6b9c",
   "metadata": {},
   "outputs": [
    {
     "name": "stdout",
     "output_type": "stream",
     "text": [
      "Chi-Square Statistic: 5.638227513227513\n"
     ]
    }
   ],
   "source": [
    "#Compute the Chi-Square statistic\n",
    "chi_square_statistic = ((observed - expected) ** 2 / expected).sum()\n",
    "print(f\"Chi-Square Statistic: {chi_square_statistic}\")"
   ]
  },
  {
   "cell_type": "code",
   "execution_count": 9,
   "id": "921771c4-ca67-48ff-b5f6-1129963cd8f3",
   "metadata": {},
   "outputs": [
    {
     "name": "stdout",
     "output_type": "stream",
     "text": [
      "Critical Value: 9.487729036781154\n"
     ]
    }
   ],
   "source": [
    "#Degrees of freedom and critical value\n",
    "alpha = 0.05\n",
    "df = (5 - 1) * (2 - 1)  # (rows - 1) * (columns - 1)\n",
    "critical_value = st.chi2.ppf(1 - alpha, df)\n",
    "print(f\"Critical Value: {critical_value}\")"
   ]
  },
  {
   "cell_type": "code",
   "execution_count": 11,
   "id": "9a3a91a9-95db-4a2a-b5cf-3067f8aa9cde",
   "metadata": {},
   "outputs": [
    {
     "name": "stdout",
     "output_type": "stream",
     "text": [
      "Fail to reject the null hypothesis: No significant association between the device type and customer satisfaction.\n"
     ]
    }
   ],
   "source": [
    "#Make a decision\n",
    "if chi_square_statistic > critical_value:\n",
    "    print(\"Reject the null hypothesis: There is a significant association between the device type and customer satisfaction.\")\n",
    "else:\n",
    "    print(\"Fail to reject the null hypothesis: No significant association between the device type and customer satisfaction.\")"
   ]
  },
  {
   "cell_type": "code",
   "execution_count": null,
   "id": "bdadbcdc-4bb4-47f9-97a0-42a2ab6182bf",
   "metadata": {},
   "outputs": [],
   "source": []
  },
  {
   "cell_type": "code",
   "execution_count": null,
   "id": "3b81cfcf-06cf-4b74-bcfe-173f8146e4ee",
   "metadata": {},
   "outputs": [],
   "source": []
  },
  {
   "cell_type": "code",
   "execution_count": null,
   "id": "b0104005-2e1a-4839-adb7-cafd2a5b75b8",
   "metadata": {},
   "outputs": [],
   "source": []
  },
  {
   "cell_type": "code",
   "execution_count": null,
   "id": "07c28e87-37d4-4003-ab4a-cabbc0fef384",
   "metadata": {},
   "outputs": [],
   "source": []
  }
 ],
 "metadata": {
  "kernelspec": {
   "display_name": "Python 3 (ipykernel)",
   "language": "python",
   "name": "python3"
  },
  "language_info": {
   "codemirror_mode": {
    "name": "ipython",
    "version": 3
   },
   "file_extension": ".py",
   "mimetype": "text/x-python",
   "name": "python",
   "nbconvert_exporter": "python",
   "pygments_lexer": "ipython3",
   "version": "3.11.7"
  }
 },
 "nbformat": 4,
 "nbformat_minor": 5
}
