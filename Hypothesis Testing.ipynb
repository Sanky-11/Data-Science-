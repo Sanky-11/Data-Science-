{
 "cells": [
  {
   "cell_type": "markdown",
   "id": "b3e73728-d2fc-4bc9-9251-2d96cd0cd0c2",
   "metadata": {},
   "source": [
    "### Hypothesis Testing"
   ]
  },
  {
   "cell_type": "code",
   "execution_count": 1,
   "id": "e37e4757-cc03-49dd-a50c-b566e3c97cf5",
   "metadata": {},
   "outputs": [],
   "source": [
    "import numpy as np\n",
    "import math"
   ]
  },
  {
   "cell_type": "code",
   "execution_count": null,
   "id": "f872d0c2-beed-4a68-b31a-38b3e0d2da96",
   "metadata": {},
   "outputs": [],
   "source": [
    "# Define the given values"
   ]
  },
  {
   "cell_type": "code",
   "execution_count": 3,
   "id": "91e54bf2-fc4b-490b-b69f-6bb67026ba37",
   "metadata": {},
   "outputs": [],
   "source": [
    "# sample mean weekly cost\n",
    "x = 3050"
   ]
  },
  {
   "cell_type": "code",
   "execution_count": 2,
   "id": "b02a85a0-d7bc-449b-814c-96dd6a587928",
   "metadata": {},
   "outputs": [],
   "source": [
    "# theoretical mean weekly cost\n",
    "mu= 4000"
   ]
  },
  {
   "cell_type": "code",
   "execution_count": 5,
   "id": "17f89d20-b674-4294-b234-ee40aeb092b0",
   "metadata": {},
   "outputs": [
    {
     "data": {
      "text/plain": [
       "125"
      ]
     },
     "execution_count": 5,
     "metadata": {},
     "output_type": "execute_result"
    }
   ],
   "source": [
    "# standard deviation \n",
    "sigma =5*25\n",
    "sigma"
   ]
  },
  {
   "cell_type": "code",
   "execution_count": 6,
   "id": "0682278d-25df-4cbe-b7cb-5767ca1edd0a",
   "metadata": {},
   "outputs": [],
   "source": [
    "#sample size \n",
    "n =25"
   ]
  },
  {
   "cell_type": "code",
   "execution_count": 7,
   "id": "cd155f5d-bf7e-4d3f-bf2e-e95af943602d",
   "metadata": {},
   "outputs": [],
   "source": [
    "#significance level\n",
    "alpha = 0.05"
   ]
  },
  {
   "cell_type": "markdown",
   "id": "1e15479c-ccdd-41b2-b12d-d1f599eb879f",
   "metadata": {},
   "source": [
    "#### State the Hypothesis Statement\n",
    "Null Hypothesis(H0) : The mean weekly cost is equal to the theoretical cost.\n",
    "\n",
    "Alternative Hypothesis (HA) : The mean weekly cost is different from the theoretical cost."
   ]
  },
  {
   "cell_type": "code",
   "execution_count": 8,
   "id": "b4688892-b006-47ea-af71-b73a2847def5",
   "metadata": {},
   "outputs": [
    {
     "data": {
      "text/plain": [
       "-38.0"
      ]
     },
     "execution_count": 8,
     "metadata": {},
     "output_type": "execute_result"
    }
   ],
   "source": [
    "# Calculate the test statistic\n",
    "t = (x-mu)/(sigma/np.sqrt(n))\n",
    "t"
   ]
  },
  {
   "cell_type": "code",
   "execution_count": 9,
   "id": "467eb00b-7064-4fdd-b6ec-efd8fd2451bf",
   "metadata": {},
   "outputs": [
    {
     "name": "stdout",
     "output_type": "stream",
     "text": [
      "Test Statistic (t): -38.0\n"
     ]
    }
   ],
   "source": [
    "print(f\"Test Statistic (t): {t}\")"
   ]
  },
  {
   "cell_type": "code",
   "execution_count": null,
   "id": "815d5c13-33ad-4078-b569-e5812463c02d",
   "metadata": {},
   "outputs": [],
   "source": [
    "# Determine the Critical value from Z-distribution for two-tailed test with alpha = 0.05"
   ]
  },
  {
   "cell_type": "code",
   "execution_count": 11,
   "id": "ddc6c50b-4c62-4784-90c4-d4f21fffdac8",
   "metadata": {},
   "outputs": [
    {
     "name": "stdout",
     "output_type": "stream",
     "text": [
      "Critical Value: 1.96\n"
     ]
    }
   ],
   "source": [
    "critical_value = 1.96\n",
    "print(f\"Critical Value: {critical_value}\")"
   ]
  },
  {
   "cell_type": "code",
   "execution_count": null,
   "id": "ca1646ef-22d3-47ed-a8a4-ef43754ecfb9",
   "metadata": {},
   "outputs": [],
   "source": [
    "# make a decision "
   ]
  },
  {
   "cell_type": "code",
   "execution_count": 15,
   "id": "0f23cd77-150e-404f-8744-ccdca193dfc3",
   "metadata": {},
   "outputs": [
    {
     "name": "stdout",
     "output_type": "stream",
     "text": [
      "Reject the null hypothesis: The mean weekly cost is different from the theoretical cost.\n"
     ]
    }
   ],
   "source": [
    "if abs(t) > critical_value:\n",
    "    print(\"Reject the null hypothesis: The mean weekly cost is different from the theoretical cost.\")\n",
    "else:\n",
    "    print(\"Fail to reject the null hypothesis: The mean weekly cost is equal to the theoretical cost.\")"
   ]
  },
  {
   "cell_type": "code",
   "execution_count": 14,
   "id": "5cb438dd-3478-405e-ba07-f22ba07972d8",
   "metadata": {},
   "outputs": [],
   "source": [
    "# Conclusion"
   ]
  },
  {
   "cell_type": "markdown",
   "id": "c124a393-3bb8-414b-a3e9-1cb852c4531a",
   "metadata": {},
   "source": [
    "There is significant evidence to support the claim that the actual mean weekly operating cost is different from the theoretical model's mean. This indicates that the restaurant owners' claim about an increase in operating costs is valid."
   ]
  },
  {
   "cell_type": "code",
   "execution_count": null,
   "id": "98af6e99-051a-40fc-b041-54e713565d6a",
   "metadata": {},
   "outputs": [],
   "source": []
  },
  {
   "cell_type": "code",
   "execution_count": null,
   "id": "f395971e-ccb6-4e46-b824-835ce884e08e",
   "metadata": {},
   "outputs": [],
   "source": []
  },
  {
   "cell_type": "code",
   "execution_count": null,
   "id": "108b56eb-3667-4a52-be27-29c91e52fe01",
   "metadata": {},
   "outputs": [],
   "source": []
  }
 ],
 "metadata": {
  "kernelspec": {
   "display_name": "Python 3 (ipykernel)",
   "language": "python",
   "name": "python3"
  },
  "language_info": {
   "codemirror_mode": {
    "name": "ipython",
    "version": 3
   },
   "file_extension": ".py",
   "mimetype": "text/x-python",
   "name": "python",
   "nbconvert_exporter": "python",
   "pygments_lexer": "ipython3",
   "version": "3.11.7"
  }
 },
 "nbformat": 4,
 "nbformat_minor": 5
}
