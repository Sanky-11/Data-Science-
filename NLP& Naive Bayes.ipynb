{
 "cells": [
  {
   "cell_type": "markdown",
   "id": "4d3ae249-6de6-4c25-bbe4-ea5807f0aad0",
   "metadata": {},
   "source": [
    "## TEXT CLASSIFICATION USING NAIVE BAYES AND SENTIMENT ANALYSIS ON BLOG POSTS"
   ]
  },
  {
   "cell_type": "code",
   "execution_count": null,
   "id": "0d0bd645-5530-40cf-ae8f-e975acfbd19d",
   "metadata": {},
   "outputs": [],
   "source": [
    "# Import Libraries"
   ]
  },
  {
   "cell_type": "code",
   "execution_count": 1,
   "id": "5ec12af2-881b-459d-b967-14ceec2c2e4e",
   "metadata": {},
   "outputs": [],
   "source": [
    "import pandas as pd\n",
    "import numpy as np\n",
    "import re\n",
    "from sklearn.model_selection import train_test_split\n",
    "from sklearn.feature_extraction.text import TfidfVectorizer\n",
    "from sklearn.naive_bayes import MultinomialNB\n",
    "from sklearn.metrics import classification_report, accuracy_score, precision_score, recall_score, f1_score\n",
    "from nltk.corpus import stopwords\n",
    "from nltk.stem import WordNetLemmatizer\n",
    "from nltk.tokenize import word_tokenize\n",
    "import nltk"
   ]
  },
  {
   "cell_type": "code",
   "execution_count": null,
   "id": "606cd3fb-80a8-47d9-ac36-53ad1d9cb673",
   "metadata": {},
   "outputs": [],
   "source": [
    "# Download required nltk data"
   ]
  },
  {
   "cell_type": "code",
   "execution_count": 3,
   "id": "8457b55d-d1b4-40fb-b332-cf733fcfd932",
   "metadata": {},
   "outputs": [
    {
     "name": "stderr",
     "output_type": "stream",
     "text": [
      "[nltk_data] Downloading package stopwords to\n",
      "[nltk_data]     C:\\Users\\sanket\\AppData\\Roaming\\nltk_data...\n",
      "[nltk_data]   Unzipping corpora\\stopwords.zip.\n",
      "[nltk_data] Downloading package punkt to\n",
      "[nltk_data]     C:\\Users\\sanket\\AppData\\Roaming\\nltk_data...\n",
      "[nltk_data]   Unzipping tokenizers\\punkt.zip.\n",
      "[nltk_data] Downloading package wordnet to\n",
      "[nltk_data]     C:\\Users\\sanket\\AppData\\Roaming\\nltk_data...\n"
     ]
    },
    {
     "data": {
      "text/plain": [
       "True"
      ]
     },
     "execution_count": 3,
     "metadata": {},
     "output_type": "execute_result"
    }
   ],
   "source": [
    "nltk.download('stopwords')\n",
    "nltk.download('punkt')\n",
    "nltk.download('wordnet')"
   ]
  },
  {
   "cell_type": "markdown",
   "id": "5a1847c5-0ca5-4676-b328-6d67fa87f021",
   "metadata": {},
   "source": [
    "### Data Exploration and Preprocessing"
   ]
  },
  {
   "cell_type": "code",
   "execution_count": null,
   "id": "1d3d23ab-524a-4303-85b3-8730f5f31788",
   "metadata": {},
   "outputs": [],
   "source": [
    "# Load the dataset"
   ]
  },
  {
   "cell_type": "code",
   "execution_count": 2,
   "id": "f5684227-ff64-49be-86aa-b8e7d6b27f47",
   "metadata": {},
   "outputs": [
    {
     "data": {
      "text/html": [
       "<div>\n",
       "<style scoped>\n",
       "    .dataframe tbody tr th:only-of-type {\n",
       "        vertical-align: middle;\n",
       "    }\n",
       "\n",
       "    .dataframe tbody tr th {\n",
       "        vertical-align: top;\n",
       "    }\n",
       "\n",
       "    .dataframe thead th {\n",
       "        text-align: right;\n",
       "    }\n",
       "</style>\n",
       "<table border=\"1\" class=\"dataframe\">\n",
       "  <thead>\n",
       "    <tr style=\"text-align: right;\">\n",
       "      <th></th>\n",
       "      <th>Data</th>\n",
       "      <th>Labels</th>\n",
       "    </tr>\n",
       "  </thead>\n",
       "  <tbody>\n",
       "    <tr>\n",
       "      <th>0</th>\n",
       "      <td>Path: cantaloupe.srv.cs.cmu.edu!magnesium.club...</td>\n",
       "      <td>alt.atheism</td>\n",
       "    </tr>\n",
       "    <tr>\n",
       "      <th>1</th>\n",
       "      <td>Newsgroups: alt.atheism\\nPath: cantaloupe.srv....</td>\n",
       "      <td>alt.atheism</td>\n",
       "    </tr>\n",
       "    <tr>\n",
       "      <th>2</th>\n",
       "      <td>Path: cantaloupe.srv.cs.cmu.edu!das-news.harva...</td>\n",
       "      <td>alt.atheism</td>\n",
       "    </tr>\n",
       "    <tr>\n",
       "      <th>3</th>\n",
       "      <td>Path: cantaloupe.srv.cs.cmu.edu!magnesium.club...</td>\n",
       "      <td>alt.atheism</td>\n",
       "    </tr>\n",
       "    <tr>\n",
       "      <th>4</th>\n",
       "      <td>Xref: cantaloupe.srv.cs.cmu.edu alt.atheism:53...</td>\n",
       "      <td>alt.atheism</td>\n",
       "    </tr>\n",
       "    <tr>\n",
       "      <th>...</th>\n",
       "      <td>...</td>\n",
       "      <td>...</td>\n",
       "    </tr>\n",
       "    <tr>\n",
       "      <th>1995</th>\n",
       "      <td>Xref: cantaloupe.srv.cs.cmu.edu talk.abortion:...</td>\n",
       "      <td>talk.religion.misc</td>\n",
       "    </tr>\n",
       "    <tr>\n",
       "      <th>1996</th>\n",
       "      <td>Xref: cantaloupe.srv.cs.cmu.edu talk.religion....</td>\n",
       "      <td>talk.religion.misc</td>\n",
       "    </tr>\n",
       "    <tr>\n",
       "      <th>1997</th>\n",
       "      <td>Xref: cantaloupe.srv.cs.cmu.edu talk.origins:4...</td>\n",
       "      <td>talk.religion.misc</td>\n",
       "    </tr>\n",
       "    <tr>\n",
       "      <th>1998</th>\n",
       "      <td>Xref: cantaloupe.srv.cs.cmu.edu talk.religion....</td>\n",
       "      <td>talk.religion.misc</td>\n",
       "    </tr>\n",
       "    <tr>\n",
       "      <th>1999</th>\n",
       "      <td>Xref: cantaloupe.srv.cs.cmu.edu sci.skeptic:43...</td>\n",
       "      <td>talk.religion.misc</td>\n",
       "    </tr>\n",
       "  </tbody>\n",
       "</table>\n",
       "<p>2000 rows × 2 columns</p>\n",
       "</div>"
      ],
      "text/plain": [
       "                                                   Data              Labels\n",
       "0     Path: cantaloupe.srv.cs.cmu.edu!magnesium.club...         alt.atheism\n",
       "1     Newsgroups: alt.atheism\\nPath: cantaloupe.srv....         alt.atheism\n",
       "2     Path: cantaloupe.srv.cs.cmu.edu!das-news.harva...         alt.atheism\n",
       "3     Path: cantaloupe.srv.cs.cmu.edu!magnesium.club...         alt.atheism\n",
       "4     Xref: cantaloupe.srv.cs.cmu.edu alt.atheism:53...         alt.atheism\n",
       "...                                                 ...                 ...\n",
       "1995  Xref: cantaloupe.srv.cs.cmu.edu talk.abortion:...  talk.religion.misc\n",
       "1996  Xref: cantaloupe.srv.cs.cmu.edu talk.religion....  talk.religion.misc\n",
       "1997  Xref: cantaloupe.srv.cs.cmu.edu talk.origins:4...  talk.religion.misc\n",
       "1998  Xref: cantaloupe.srv.cs.cmu.edu talk.religion....  talk.religion.misc\n",
       "1999  Xref: cantaloupe.srv.cs.cmu.edu sci.skeptic:43...  talk.religion.misc\n",
       "\n",
       "[2000 rows x 2 columns]"
      ]
     },
     "execution_count": 2,
     "metadata": {},
     "output_type": "execute_result"
    }
   ],
   "source": [
    "df=pd.read_csv(r'C:\\Users\\sanket\\Desktop\\DS ASSIGNMENT\\New folder\\blogs.csv')\n",
    "df"
   ]
  },
  {
   "cell_type": "code",
   "execution_count": 5,
   "id": "cc2bba9e-3bfd-411a-8701-78120cf5c8d3",
   "metadata": {},
   "outputs": [
    {
     "data": {
      "text/html": [
       "<div>\n",
       "<style scoped>\n",
       "    .dataframe tbody tr th:only-of-type {\n",
       "        vertical-align: middle;\n",
       "    }\n",
       "\n",
       "    .dataframe tbody tr th {\n",
       "        vertical-align: top;\n",
       "    }\n",
       "\n",
       "    .dataframe thead th {\n",
       "        text-align: right;\n",
       "    }\n",
       "</style>\n",
       "<table border=\"1\" class=\"dataframe\">\n",
       "  <thead>\n",
       "    <tr style=\"text-align: right;\">\n",
       "      <th></th>\n",
       "      <th>Data</th>\n",
       "      <th>Labels</th>\n",
       "    </tr>\n",
       "  </thead>\n",
       "  <tbody>\n",
       "    <tr>\n",
       "      <th>0</th>\n",
       "      <td>Path: cantaloupe.srv.cs.cmu.edu!magnesium.club...</td>\n",
       "      <td>alt.atheism</td>\n",
       "    </tr>\n",
       "    <tr>\n",
       "      <th>1</th>\n",
       "      <td>Newsgroups: alt.atheism\\nPath: cantaloupe.srv....</td>\n",
       "      <td>alt.atheism</td>\n",
       "    </tr>\n",
       "    <tr>\n",
       "      <th>2</th>\n",
       "      <td>Path: cantaloupe.srv.cs.cmu.edu!das-news.harva...</td>\n",
       "      <td>alt.atheism</td>\n",
       "    </tr>\n",
       "    <tr>\n",
       "      <th>3</th>\n",
       "      <td>Path: cantaloupe.srv.cs.cmu.edu!magnesium.club...</td>\n",
       "      <td>alt.atheism</td>\n",
       "    </tr>\n",
       "    <tr>\n",
       "      <th>4</th>\n",
       "      <td>Xref: cantaloupe.srv.cs.cmu.edu alt.atheism:53...</td>\n",
       "      <td>alt.atheism</td>\n",
       "    </tr>\n",
       "  </tbody>\n",
       "</table>\n",
       "</div>"
      ],
      "text/plain": [
       "                                                Data       Labels\n",
       "0  Path: cantaloupe.srv.cs.cmu.edu!magnesium.club...  alt.atheism\n",
       "1  Newsgroups: alt.atheism\\nPath: cantaloupe.srv....  alt.atheism\n",
       "2  Path: cantaloupe.srv.cs.cmu.edu!das-news.harva...  alt.atheism\n",
       "3  Path: cantaloupe.srv.cs.cmu.edu!magnesium.club...  alt.atheism\n",
       "4  Xref: cantaloupe.srv.cs.cmu.edu alt.atheism:53...  alt.atheism"
      ]
     },
     "execution_count": 5,
     "metadata": {},
     "output_type": "execute_result"
    }
   ],
   "source": [
    "df.head()"
   ]
  },
  {
   "cell_type": "code",
   "execution_count": 6,
   "id": "16d25d31-3fb0-49e7-801e-a4d537549889",
   "metadata": {},
   "outputs": [
    {
     "name": "stdout",
     "output_type": "stream",
     "text": [
      "<class 'pandas.core.frame.DataFrame'>\n",
      "RangeIndex: 2000 entries, 0 to 1999\n",
      "Data columns (total 2 columns):\n",
      " #   Column  Non-Null Count  Dtype \n",
      "---  ------  --------------  ----- \n",
      " 0   Data    2000 non-null   object\n",
      " 1   Labels  2000 non-null   object\n",
      "dtypes: object(2)\n",
      "memory usage: 31.4+ KB\n"
     ]
    }
   ],
   "source": [
    "df.info()"
   ]
  },
  {
   "cell_type": "code",
   "execution_count": null,
   "id": "bc373a01-7083-4341-803e-36a0418ddf2e",
   "metadata": {},
   "outputs": [],
   "source": [
    "# Check distribution of categories"
   ]
  },
  {
   "cell_type": "code",
   "execution_count": 7,
   "id": "a021b18b-6682-40e6-a54a-4c90f6ff07d4",
   "metadata": {},
   "outputs": [
    {
     "data": {
      "text/plain": [
       "alt.atheism                 100\n",
       "comp.graphics               100\n",
       "talk.politics.misc          100\n",
       "talk.politics.mideast       100\n",
       "talk.politics.guns          100\n",
       "soc.religion.christian      100\n",
       "sci.space                   100\n",
       "sci.med                     100\n",
       "sci.electronics             100\n",
       "sci.crypt                   100\n",
       "rec.sport.hockey            100\n",
       "rec.sport.baseball          100\n",
       "rec.motorcycles             100\n",
       "rec.autos                   100\n",
       "misc.forsale                100\n",
       "comp.windows.x              100\n",
       "comp.sys.mac.hardware       100\n",
       "comp.sys.ibm.pc.hardware    100\n",
       "comp.os.ms-windows.misc     100\n",
       "talk.religion.misc          100\n",
       "Name: Labels, dtype: int64"
      ]
     },
     "execution_count": 7,
     "metadata": {},
     "output_type": "execute_result"
    }
   ],
   "source": [
    "df['Labels'].value_counts()"
   ]
  },
  {
   "cell_type": "markdown",
   "id": "9a12bd1d-7864-46e3-ad29-874b246c2283",
   "metadata": {},
   "source": [
    "### Text Preprocessing"
   ]
  },
  {
   "cell_type": "code",
   "execution_count": null,
   "id": "b9a48551-e7a7-4e06-b02a-9545e9ede3d4",
   "metadata": {},
   "outputs": [],
   "source": [
    "# Initialize the lemmatizer and get stopwords"
   ]
  },
  {
   "cell_type": "code",
   "execution_count": 8,
   "id": "0fee682d-bf1f-47cc-80ac-cbd15c072b96",
   "metadata": {},
   "outputs": [],
   "source": [
    "lemmatizer = WordNetLemmatizer()\n",
    "stop_words = set(stopwords.words(\"english\"))"
   ]
  },
  {
   "cell_type": "code",
   "execution_count": null,
   "id": "6194cff6-5fc1-47f0-8d07-7063312b5b85",
   "metadata": {},
   "outputs": [],
   "source": [
    "# Function to clean and preprocess text"
   ]
  },
  {
   "cell_type": "code",
   "execution_count": 9,
   "id": "57966eef-c4d1-4f7e-a5b5-2aaa28f871e6",
   "metadata": {},
   "outputs": [],
   "source": [
    "def preprocess_text(text):\n",
    "    text = text.lower()  # Convert to lowercase\n",
    "    text = re.sub(r'[^\\w\\s]', '', text) # Remove punctuation and non-alphanumeric characters\n",
    "    tokens = word_tokenize(text) # Tokenize text\n",
    "    tokens = [lemmatizer.lemmatize(word) for word in tokens if word not in stop_words]  # Remove stopwords and lemmatize each token\n",
    "    return \" \".join(tokens)  # Join tokens back into a single string"
   ]
  },
  {
   "cell_type": "code",
   "execution_count": null,
   "id": "247c66ec-9e1f-42c9-af98-8e768fd74020",
   "metadata": {},
   "outputs": [],
   "source": [
    "# Apply preprocessing to the Data column"
   ]
  },
  {
   "cell_type": "code",
   "execution_count": 10,
   "id": "ce88ce0e-c08c-4509-9280-d46da339272b",
   "metadata": {},
   "outputs": [
    {
     "data": {
      "text/plain": [
       "0    path cantaloupesrvcscmuedumagnesiumclubcccmued...\n",
       "1    newsgroups altatheism path cantaloupesrvcscmue...\n",
       "2    path cantaloupesrvcscmuedudasnewsharvardedunoc...\n",
       "3    path cantaloupesrvcscmuedumagnesiumclubcccmued...\n",
       "4    xref cantaloupesrvcscmuedu altatheism53485 tal...\n",
       "Name: Cleaned_Data, dtype: object"
      ]
     },
     "execution_count": 10,
     "metadata": {},
     "output_type": "execute_result"
    }
   ],
   "source": [
    "df['Cleaned_Data'] = df['Data'].apply(preprocess_text)\n",
    "df['Cleaned_Data'].head()"
   ]
  },
  {
   "cell_type": "markdown",
   "id": "6bcff8b6-c690-4dac-a2dd-e4fd906e78d9",
   "metadata": {},
   "source": [
    "### Feature Extraction with TF-IDF"
   ]
  },
  {
   "cell_type": "code",
   "execution_count": null,
   "id": "c366669d-98de-4a17-b0fe-d38370c922d0",
   "metadata": {},
   "outputs": [],
   "source": [
    "# Convert text data to TF-IDF features"
   ]
  },
  {
   "cell_type": "code",
   "execution_count": 12,
   "id": "fe8d4e35-db6b-4aeb-857d-7c2ade77a931",
   "metadata": {},
   "outputs": [],
   "source": [
    "tfidf = TfidfVectorizer(max_features=5000)  \n",
    "x= tfidf.fit_transform(df['Cleaned_Data'])\n",
    "y = df['Labels']  #Target variable"
   ]
  },
  {
   "cell_type": "code",
   "execution_count": 13,
   "id": "07e1f4f2-fb86-4395-96e3-26944c57fb48",
   "metadata": {},
   "outputs": [
    {
     "data": {
      "text/plain": [
       "<2000x5000 sparse matrix of type '<class 'numpy.float64'>'\n",
       "\twith 189407 stored elements in Compressed Sparse Row format>"
      ]
     },
     "execution_count": 13,
     "metadata": {},
     "output_type": "execute_result"
    }
   ],
   "source": [
    "x"
   ]
  },
  {
   "cell_type": "code",
   "execution_count": 14,
   "id": "674096f4-44dd-49a3-9c07-ae3ea02ade42",
   "metadata": {},
   "outputs": [
    {
     "data": {
      "text/plain": [
       "0              alt.atheism\n",
       "1              alt.atheism\n",
       "2              alt.atheism\n",
       "3              alt.atheism\n",
       "4              alt.atheism\n",
       "               ...        \n",
       "1995    talk.religion.misc\n",
       "1996    talk.religion.misc\n",
       "1997    talk.religion.misc\n",
       "1998    talk.religion.misc\n",
       "1999    talk.religion.misc\n",
       "Name: Labels, Length: 2000, dtype: object"
      ]
     },
     "execution_count": 14,
     "metadata": {},
     "output_type": "execute_result"
    }
   ],
   "source": [
    "y"
   ]
  },
  {
   "cell_type": "markdown",
   "id": "e7da696f-3326-413f-8649-0e6ce73b42f4",
   "metadata": {},
   "source": [
    "## Naive Bayes Model for Text Classification"
   ]
  },
  {
   "cell_type": "code",
   "execution_count": null,
   "id": "cb12aed4-62c2-47a3-befb-a78ef533bbc2",
   "metadata": {},
   "outputs": [],
   "source": [
    "# Split the Data"
   ]
  },
  {
   "cell_type": "code",
   "execution_count": 15,
   "id": "68057f79-a318-4aae-b645-c1e4ec0a43f6",
   "metadata": {},
   "outputs": [],
   "source": [
    "# Split data into training and testing sets\n",
    "x_train, x_test, y_train, y_test = train_test_split(x, y, test_size=0.2, random_state=42)"
   ]
  },
  {
   "cell_type": "code",
   "execution_count": 17,
   "id": "f3c9cd25-e342-4cb9-b3e7-0ab1944c1d4e",
   "metadata": {},
   "outputs": [],
   "source": [
    "# Initialize the Naive Bayes classifier\n",
    "nb_model = MultinomialNB()"
   ]
  },
  {
   "cell_type": "code",
   "execution_count": 19,
   "id": "cd10e949-4dbb-470c-8773-2e937f240d14",
   "metadata": {},
   "outputs": [
    {
     "data": {
      "text/html": [
       "<style>#sk-container-id-1 {color: black;background-color: white;}#sk-container-id-1 pre{padding: 0;}#sk-container-id-1 div.sk-toggleable {background-color: white;}#sk-container-id-1 label.sk-toggleable__label {cursor: pointer;display: block;width: 100%;margin-bottom: 0;padding: 0.3em;box-sizing: border-box;text-align: center;}#sk-container-id-1 label.sk-toggleable__label-arrow:before {content: \"▸\";float: left;margin-right: 0.25em;color: #696969;}#sk-container-id-1 label.sk-toggleable__label-arrow:hover:before {color: black;}#sk-container-id-1 div.sk-estimator:hover label.sk-toggleable__label-arrow:before {color: black;}#sk-container-id-1 div.sk-toggleable__content {max-height: 0;max-width: 0;overflow: hidden;text-align: left;background-color: #f0f8ff;}#sk-container-id-1 div.sk-toggleable__content pre {margin: 0.2em;color: black;border-radius: 0.25em;background-color: #f0f8ff;}#sk-container-id-1 input.sk-toggleable__control:checked~div.sk-toggleable__content {max-height: 200px;max-width: 100%;overflow: auto;}#sk-container-id-1 input.sk-toggleable__control:checked~label.sk-toggleable__label-arrow:before {content: \"▾\";}#sk-container-id-1 div.sk-estimator input.sk-toggleable__control:checked~label.sk-toggleable__label {background-color: #d4ebff;}#sk-container-id-1 div.sk-label input.sk-toggleable__control:checked~label.sk-toggleable__label {background-color: #d4ebff;}#sk-container-id-1 input.sk-hidden--visually {border: 0;clip: rect(1px 1px 1px 1px);clip: rect(1px, 1px, 1px, 1px);height: 1px;margin: -1px;overflow: hidden;padding: 0;position: absolute;width: 1px;}#sk-container-id-1 div.sk-estimator {font-family: monospace;background-color: #f0f8ff;border: 1px dotted black;border-radius: 0.25em;box-sizing: border-box;margin-bottom: 0.5em;}#sk-container-id-1 div.sk-estimator:hover {background-color: #d4ebff;}#sk-container-id-1 div.sk-parallel-item::after {content: \"\";width: 100%;border-bottom: 1px solid gray;flex-grow: 1;}#sk-container-id-1 div.sk-label:hover label.sk-toggleable__label {background-color: #d4ebff;}#sk-container-id-1 div.sk-serial::before {content: \"\";position: absolute;border-left: 1px solid gray;box-sizing: border-box;top: 0;bottom: 0;left: 50%;z-index: 0;}#sk-container-id-1 div.sk-serial {display: flex;flex-direction: column;align-items: center;background-color: white;padding-right: 0.2em;padding-left: 0.2em;position: relative;}#sk-container-id-1 div.sk-item {position: relative;z-index: 1;}#sk-container-id-1 div.sk-parallel {display: flex;align-items: stretch;justify-content: center;background-color: white;position: relative;}#sk-container-id-1 div.sk-item::before, #sk-container-id-1 div.sk-parallel-item::before {content: \"\";position: absolute;border-left: 1px solid gray;box-sizing: border-box;top: 0;bottom: 0;left: 50%;z-index: -1;}#sk-container-id-1 div.sk-parallel-item {display: flex;flex-direction: column;z-index: 1;position: relative;background-color: white;}#sk-container-id-1 div.sk-parallel-item:first-child::after {align-self: flex-end;width: 50%;}#sk-container-id-1 div.sk-parallel-item:last-child::after {align-self: flex-start;width: 50%;}#sk-container-id-1 div.sk-parallel-item:only-child::after {width: 0;}#sk-container-id-1 div.sk-dashed-wrapped {border: 1px dashed gray;margin: 0 0.4em 0.5em 0.4em;box-sizing: border-box;padding-bottom: 0.4em;background-color: white;}#sk-container-id-1 div.sk-label label {font-family: monospace;font-weight: bold;display: inline-block;line-height: 1.2em;}#sk-container-id-1 div.sk-label-container {text-align: center;}#sk-container-id-1 div.sk-container {/* jupyter's `normalize.less` sets `[hidden] { display: none; }` but bootstrap.min.css set `[hidden] { display: none !important; }` so we also need the `!important` here to be able to override the default hidden behavior on the sphinx rendered scikit-learn.org. See: https://github.com/scikit-learn/scikit-learn/issues/21755 */display: inline-block !important;position: relative;}#sk-container-id-1 div.sk-text-repr-fallback {display: none;}</style><div id=\"sk-container-id-1\" class=\"sk-top-container\"><div class=\"sk-text-repr-fallback\"><pre>MultinomialNB()</pre><b>In a Jupyter environment, please rerun this cell to show the HTML representation or trust the notebook. <br />On GitHub, the HTML representation is unable to render, please try loading this page with nbviewer.org.</b></div><div class=\"sk-container\" hidden><div class=\"sk-item\"><div class=\"sk-estimator sk-toggleable\"><input class=\"sk-toggleable__control sk-hidden--visually\" id=\"sk-estimator-id-1\" type=\"checkbox\" checked><label for=\"sk-estimator-id-1\" class=\"sk-toggleable__label sk-toggleable__label-arrow\">MultinomialNB</label><div class=\"sk-toggleable__content\"><pre>MultinomialNB()</pre></div></div></div></div></div>"
      ],
      "text/plain": [
       "MultinomialNB()"
      ]
     },
     "execution_count": 19,
     "metadata": {},
     "output_type": "execute_result"
    }
   ],
   "source": [
    "# Train the model\n",
    "nb_model.fit(x_train, y_train)"
   ]
  },
  {
   "cell_type": "code",
   "execution_count": 20,
   "id": "86da2ac9-2638-46b9-a62b-fb6267d26ac8",
   "metadata": {},
   "outputs": [],
   "source": [
    "#Make predictions\n",
    "y_pred = nb_model.predict(x_test)"
   ]
  },
  {
   "cell_type": "code",
   "execution_count": 21,
   "id": "18761561-2d37-4fb2-85b6-f6ac3a7ace78",
   "metadata": {},
   "outputs": [
    {
     "data": {
      "text/plain": [
       "array(['talk.politics.misc', 'comp.sys.ibm.pc.hardware', 'sci.med',\n",
       "       'rec.sport.baseball', 'sci.electronics', 'sci.electronics',\n",
       "       'rec.sport.baseball', 'talk.politics.mideast', 'alt.atheism',\n",
       "       'sci.med', 'alt.atheism', 'sci.med', 'sci.crypt', 'comp.windows.x',\n",
       "       'comp.sys.ibm.pc.hardware', 'comp.os.ms-windows.misc', 'rec.autos',\n",
       "       'comp.graphics', 'talk.politics.guns', 'talk.politics.misc',\n",
       "       'comp.sys.mac.hardware', 'alt.atheism', 'alt.atheism',\n",
       "       'rec.sport.hockey', 'alt.atheism', 'sci.crypt',\n",
       "       'talk.politics.misc', 'rec.sport.baseball', 'rec.autos',\n",
       "       'alt.atheism', 'rec.sport.baseball', 'rec.sport.baseball',\n",
       "       'comp.windows.x', 'rec.sport.baseball', 'rec.sport.hockey',\n",
       "       'comp.sys.mac.hardware', 'sci.med', 'sci.electronics',\n",
       "       'rec.sport.hockey', 'comp.os.ms-windows.misc', 'sci.electronics',\n",
       "       'soc.religion.christian', 'comp.os.ms-windows.misc',\n",
       "       'comp.windows.x', 'soc.religion.christian', 'rec.motorcycles',\n",
       "       'comp.windows.x', 'rec.motorcycles', 'alt.atheism',\n",
       "       'talk.politics.guns', 'soc.religion.christian',\n",
       "       'comp.os.ms-windows.misc', 'sci.space', 'comp.os.ms-windows.misc',\n",
       "       'rec.sport.baseball', 'talk.politics.mideast', 'sci.electronics',\n",
       "       'talk.politics.guns', 'sci.crypt', 'comp.sys.ibm.pc.hardware',\n",
       "       'sci.space', 'misc.forsale', 'talk.politics.guns',\n",
       "       'rec.sport.hockey', 'talk.politics.guns', 'talk.politics.misc',\n",
       "       'rec.sport.baseball', 'soc.religion.christian', 'comp.graphics',\n",
       "       'sci.space', 'sci.space', 'comp.sys.ibm.pc.hardware', 'sci.med',\n",
       "       'rec.sport.hockey', 'rec.motorcycles', 'comp.sys.ibm.pc.hardware',\n",
       "       'talk.politics.guns', 'rec.autos', 'sci.electronics',\n",
       "       'talk.politics.misc', 'alt.atheism', 'rec.motorcycles',\n",
       "       'sci.space', 'soc.religion.christian', 'talk.politics.misc',\n",
       "       'rec.sport.baseball', 'talk.politics.mideast',\n",
       "       'comp.sys.mac.hardware', 'comp.windows.x', 'talk.politics.guns',\n",
       "       'soc.religion.christian', 'talk.politics.mideast',\n",
       "       'comp.os.ms-windows.misc', 'comp.os.ms-windows.misc',\n",
       "       'talk.politics.misc', 'talk.politics.misc', 'misc.forsale',\n",
       "       'sci.electronics', 'soc.religion.christian', 'talk.politics.guns',\n",
       "       'rec.sport.baseball', 'rec.sport.baseball',\n",
       "       'comp.sys.mac.hardware', 'sci.med', 'comp.os.ms-windows.misc',\n",
       "       'rec.motorcycles', 'misc.forsale', 'comp.os.ms-windows.misc',\n",
       "       'rec.motorcycles', 'comp.windows.x', 'rec.autos', 'sci.space',\n",
       "       'rec.sport.hockey', 'talk.politics.mideast', 'rec.autos',\n",
       "       'sci.crypt', 'sci.crypt', 'rec.sport.baseball',\n",
       "       'comp.sys.ibm.pc.hardware', 'sci.crypt', 'talk.politics.misc',\n",
       "       'rec.sport.hockey', 'sci.crypt', 'comp.sys.mac.hardware',\n",
       "       'comp.sys.ibm.pc.hardware', 'soc.religion.christian',\n",
       "       'comp.sys.mac.hardware', 'rec.motorcycles', 'sci.crypt',\n",
       "       'comp.sys.ibm.pc.hardware', 'talk.religion.misc',\n",
       "       'talk.politics.misc', 'rec.autos', 'comp.windows.x',\n",
       "       'rec.motorcycles', 'rec.sport.baseball', 'talk.religion.misc',\n",
       "       'alt.atheism', 'talk.politics.guns', 'soc.religion.christian',\n",
       "       'sci.med', 'comp.sys.ibm.pc.hardware', 'talk.politics.misc',\n",
       "       'rec.motorcycles', 'soc.religion.christian', 'comp.windows.x',\n",
       "       'misc.forsale', 'comp.sys.mac.hardware', 'comp.os.ms-windows.misc',\n",
       "       'comp.graphics', 'talk.politics.guns', 'rec.sport.baseball',\n",
       "       'misc.forsale', 'sci.crypt', 'comp.sys.ibm.pc.hardware',\n",
       "       'comp.os.ms-windows.misc', 'comp.os.ms-windows.misc',\n",
       "       'talk.politics.guns', 'comp.windows.x', 'talk.politics.guns',\n",
       "       'misc.forsale', 'rec.motorcycles', 'comp.graphics', 'sci.crypt',\n",
       "       'talk.religion.misc', 'sci.space', 'talk.politics.mideast',\n",
       "       'sci.electronics', 'comp.sys.ibm.pc.hardware',\n",
       "       'talk.politics.mideast', 'sci.crypt', 'misc.forsale',\n",
       "       'alt.atheism', 'talk.politics.misc', 'comp.sys.mac.hardware',\n",
       "       'sci.med', 'rec.autos', 'sci.med', 'rec.motorcycles',\n",
       "       'soc.religion.christian', 'sci.electronics', 'rec.autos',\n",
       "       'talk.politics.misc', 'sci.crypt', 'rec.motorcycles', 'rec.autos',\n",
       "       'alt.atheism', 'talk.politics.guns', 'sci.crypt',\n",
       "       'sci.electronics', 'rec.autos', 'comp.os.ms-windows.misc',\n",
       "       'sci.med', 'comp.os.ms-windows.misc', 'talk.religion.misc',\n",
       "       'comp.sys.mac.hardware', 'sci.crypt', 'rec.motorcycles',\n",
       "       'misc.forsale', 'soc.religion.christian', 'talk.politics.misc',\n",
       "       'comp.windows.x', 'comp.graphics', 'rec.autos',\n",
       "       'comp.sys.mac.hardware', 'comp.os.ms-windows.misc', 'sci.space',\n",
       "       'comp.graphics', 'rec.sport.hockey', 'alt.atheism',\n",
       "       'talk.politics.mideast', 'alt.atheism', 'comp.os.ms-windows.misc',\n",
       "       'comp.graphics', 'rec.autos', 'talk.politics.misc', 'sci.crypt',\n",
       "       'comp.sys.ibm.pc.hardware', 'comp.sys.mac.hardware',\n",
       "       'sci.electronics', 'rec.sport.baseball', 'comp.graphics',\n",
       "       'comp.windows.x', 'sci.crypt', 'talk.politics.misc',\n",
       "       'talk.religion.misc', 'comp.sys.mac.hardware', 'comp.graphics',\n",
       "       'talk.politics.guns', 'comp.sys.ibm.pc.hardware', 'alt.atheism',\n",
       "       'comp.os.ms-windows.misc', 'talk.politics.guns', 'rec.motorcycles',\n",
       "       'talk.politics.mideast', 'comp.sys.ibm.pc.hardware',\n",
       "       'rec.sport.hockey', 'rec.motorcycles', 'sci.med', 'comp.windows.x',\n",
       "       'rec.autos', 'soc.religion.christian', 'comp.windows.x',\n",
       "       'rec.sport.baseball', 'sci.med', 'comp.graphics',\n",
       "       'rec.motorcycles', 'soc.religion.christian', 'rec.motorcycles',\n",
       "       'comp.windows.x', 'rec.sport.hockey', 'comp.sys.ibm.pc.hardware',\n",
       "       'sci.crypt', 'comp.sys.ibm.pc.hardware', 'sci.space',\n",
       "       'rec.sport.hockey', 'comp.windows.x', 'misc.forsale',\n",
       "       'talk.politics.misc', 'sci.electronics', 'alt.atheism',\n",
       "       'soc.religion.christian', 'alt.atheism', 'alt.atheism',\n",
       "       'rec.sport.hockey', 'soc.religion.christian', 'misc.forsale',\n",
       "       'comp.graphics', 'comp.os.ms-windows.misc', 'rec.sport.hockey',\n",
       "       'sci.med', 'alt.atheism', 'comp.sys.mac.hardware',\n",
       "       'talk.politics.guns', 'alt.atheism', 'alt.atheism',\n",
       "       'rec.sport.baseball', 'comp.sys.mac.hardware', 'sci.space',\n",
       "       'comp.sys.ibm.pc.hardware', 'talk.religion.misc', 'sci.space',\n",
       "       'misc.forsale', 'sci.med', 'sci.med', 'alt.atheism',\n",
       "       'comp.os.ms-windows.misc', 'talk.politics.mideast', 'alt.atheism',\n",
       "       'comp.graphics', 'comp.sys.mac.hardware', 'soc.religion.christian',\n",
       "       'sci.space', 'talk.politics.guns', 'comp.windows.x',\n",
       "       'comp.sys.ibm.pc.hardware', 'alt.atheism', 'talk.politics.mideast',\n",
       "       'talk.politics.misc', 'comp.sys.mac.hardware', 'comp.windows.x',\n",
       "       'alt.atheism', 'talk.politics.guns', 'sci.space', 'rec.autos',\n",
       "       'talk.religion.misc', 'sci.crypt', 'sci.med', 'rec.sport.baseball',\n",
       "       'alt.atheism', 'rec.sport.hockey', 'talk.politics.guns',\n",
       "       'sci.electronics', 'rec.sport.baseball', 'rec.sport.hockey',\n",
       "       'comp.os.ms-windows.misc', 'soc.religion.christian',\n",
       "       'soc.religion.christian', 'talk.politics.misc',\n",
       "       'soc.religion.christian', 'alt.atheism', 'talk.politics.guns',\n",
       "       'comp.graphics', 'comp.sys.ibm.pc.hardware', 'rec.sport.baseball',\n",
       "       'comp.windows.x', 'talk.religion.misc', 'misc.forsale',\n",
       "       'talk.politics.guns', 'rec.autos', 'comp.sys.ibm.pc.hardware',\n",
       "       'comp.sys.ibm.pc.hardware', 'soc.religion.christian',\n",
       "       'comp.windows.x', 'comp.sys.ibm.pc.hardware',\n",
       "       'talk.politics.mideast', 'comp.os.ms-windows.misc',\n",
       "       'comp.graphics', 'sci.crypt', 'alt.atheism', 'sci.space',\n",
       "       'comp.sys.ibm.pc.hardware', 'alt.atheism', 'rec.motorcycles',\n",
       "       'comp.windows.x', 'talk.politics.guns', 'comp.sys.ibm.pc.hardware',\n",
       "       'alt.atheism', 'soc.religion.christian', 'rec.sport.baseball',\n",
       "       'comp.graphics', 'comp.sys.mac.hardware', 'sci.space',\n",
       "       'talk.politics.guns', 'comp.graphics', 'comp.windows.x',\n",
       "       'talk.politics.mideast', 'talk.politics.mideast', 'sci.med',\n",
       "       'sci.crypt', 'comp.sys.mac.hardware', 'comp.sys.ibm.pc.hardware',\n",
       "       'rec.autos', 'rec.sport.hockey', 'comp.os.ms-windows.misc',\n",
       "       'comp.sys.mac.hardware', 'talk.politics.mideast',\n",
       "       'sci.electronics', 'sci.crypt', 'comp.os.ms-windows.misc',\n",
       "       'soc.religion.christian', 'talk.politics.mideast', 'alt.atheism',\n",
       "       'rec.sport.baseball', 'soc.religion.christian',\n",
       "       'soc.religion.christian', 'comp.sys.mac.hardware',\n",
       "       'talk.politics.mideast', 'talk.politics.misc', 'sci.space',\n",
       "       'sci.space', 'sci.electronics', 'comp.sys.mac.hardware',\n",
       "       'talk.politics.guns', 'comp.graphics', 'rec.autos',\n",
       "       'comp.graphics', 'sci.space', 'misc.forsale',\n",
       "       'soc.religion.christian', 'talk.politics.mideast',\n",
       "       'talk.politics.misc', 'comp.sys.mac.hardware', 'rec.autos',\n",
       "       'comp.windows.x', 'rec.sport.baseball', 'sci.electronics',\n",
       "       'talk.politics.mideast', 'comp.sys.ibm.pc.hardware',\n",
       "       'comp.windows.x'], dtype='<U24')"
      ]
     },
     "execution_count": 21,
     "metadata": {},
     "output_type": "execute_result"
    }
   ],
   "source": [
    "y_pred"
   ]
  },
  {
   "cell_type": "markdown",
   "id": "bc3419ec-aa7a-4df5-a2d4-03d2a47c1c73",
   "metadata": {},
   "source": [
    "## Sentiment Analysis"
   ]
  },
  {
   "cell_type": "code",
   "execution_count": null,
   "id": "6789b91b-7ebb-41b8-9cbf-fb6831477b59",
   "metadata": {},
   "outputs": [],
   "source": [
    "# Sentiment Analysis using TextBlob"
   ]
  },
  {
   "cell_type": "code",
   "execution_count": 25,
   "id": "faf9ef40-0d6e-4e4c-929e-d2bd089857ac",
   "metadata": {},
   "outputs": [
    {
     "name": "stdout",
     "output_type": "stream",
     "text": [
      "Defaulting to user installation because normal site-packages is not writeable\n",
      "Collecting textblob\n",
      "  Downloading textblob-0.18.0.post0-py3-none-any.whl.metadata (4.5 kB)\n",
      "Requirement already satisfied: nltk>=3.8 in c:\\windows\\new folder\\lib\\site-packages (from textblob) (3.8.1)\n",
      "Requirement already satisfied: click in c:\\windows\\new folder\\lib\\site-packages (from nltk>=3.8->textblob) (8.1.7)\n",
      "Requirement already satisfied: joblib in c:\\windows\\new folder\\lib\\site-packages (from nltk>=3.8->textblob) (1.2.0)\n",
      "Requirement already satisfied: regex>=2021.8.3 in c:\\windows\\new folder\\lib\\site-packages (from nltk>=3.8->textblob) (2023.10.3)\n",
      "Requirement already satisfied: tqdm in c:\\windows\\new folder\\lib\\site-packages (from nltk>=3.8->textblob) (4.65.0)\n",
      "Requirement already satisfied: colorama in c:\\windows\\new folder\\lib\\site-packages (from click->nltk>=3.8->textblob) (0.4.6)\n",
      "Downloading textblob-0.18.0.post0-py3-none-any.whl (626 kB)\n",
      "   ---------------------------------------- 0.0/626.3 kB ? eta -:--:--\n",
      "    --------------------------------------- 10.2/626.3 kB ? eta -:--:--\n",
      "   - ------------------------------------- 30.7/626.3 kB 435.7 kB/s eta 0:00:02\n",
      "   -- ------------------------------------ 41.0/626.3 kB 326.8 kB/s eta 0:00:02\n",
      "   ----- --------------------------------- 92.2/626.3 kB 585.1 kB/s eta 0:00:01\n",
      "   ------- ------------------------------ 122.9/626.3 kB 654.9 kB/s eta 0:00:01\n",
      "   -------------- ----------------------- 245.8/626.3 kB 942.1 kB/s eta 0:00:01\n",
      "   ----------------- -------------------- 286.7/626.3 kB 983.9 kB/s eta 0:00:01\n",
      "   ------------------------ --------------- 389.1/626.3 kB 1.1 MB/s eta 0:00:01\n",
      "   ----------------------------- ---------- 460.8/626.3 kB 1.2 MB/s eta 0:00:01\n",
      "   ------------------------------------ --- 573.4/626.3 kB 1.3 MB/s eta 0:00:01\n",
      "   ---------------------------------------  624.6/626.3 kB 1.3 MB/s eta 0:00:01\n",
      "   ---------------------------------------  624.6/626.3 kB 1.3 MB/s eta 0:00:01\n",
      "   ---------------------------------------  624.6/626.3 kB 1.3 MB/s eta 0:00:01\n",
      "   ---------------------------------------  624.6/626.3 kB 1.3 MB/s eta 0:00:01\n",
      "   ---------------------------------------  624.6/626.3 kB 1.3 MB/s eta 0:00:01\n",
      "   -------------------------------------- 626.3/626.3 kB 856.9 kB/s eta 0:00:00\n",
      "Installing collected packages: textblob\n",
      "Successfully installed textblob-0.18.0.post0\n"
     ]
    }
   ],
   "source": [
    "!pip install textblob"
   ]
  },
  {
   "cell_type": "code",
   "execution_count": 27,
   "id": "5fab1fe6-6c30-4c2e-82cc-13a0c578bf8a",
   "metadata": {},
   "outputs": [],
   "source": [
    "from textblob import TextBlob"
   ]
  },
  {
   "cell_type": "code",
   "execution_count": null,
   "id": "d7de211b-7705-4f70-b73f-e712b4cb478c",
   "metadata": {},
   "outputs": [],
   "source": [
    "# Function to classify sentiment"
   ]
  },
  {
   "cell_type": "code",
   "execution_count": 29,
   "id": "ac49646e-7eec-4e6f-9ecf-cfefe12a9a72",
   "metadata": {},
   "outputs": [],
   "source": [
    "def get_sentiment(text):\n",
    "    blob = TextBlob(text)\n",
    "    if blob.sentiment.polarity > 0: # Determine sentiment polarity\n",
    "        return \"positive\"\n",
    "    elif blob.sentiment.polarity < 0:\n",
    "        return \"negative\"\n",
    "    else:\n",
    "        return \"neutral\""
   ]
  },
  {
   "cell_type": "code",
   "execution_count": null,
   "id": "bbd3729c-7436-4fa4-911f-df67f48ecd54",
   "metadata": {},
   "outputs": [],
   "source": [
    "# Apply sentiment analysis on the \"Data\" column"
   ]
  },
  {
   "cell_type": "code",
   "execution_count": 30,
   "id": "ee4e6c35-0b84-47a4-9f3a-fe5c2a19b4be",
   "metadata": {},
   "outputs": [
    {
     "data": {
      "text/html": [
       "<div>\n",
       "<style scoped>\n",
       "    .dataframe tbody tr th:only-of-type {\n",
       "        vertical-align: middle;\n",
       "    }\n",
       "\n",
       "    .dataframe tbody tr th {\n",
       "        vertical-align: top;\n",
       "    }\n",
       "\n",
       "    .dataframe thead th {\n",
       "        text-align: right;\n",
       "    }\n",
       "</style>\n",
       "<table border=\"1\" class=\"dataframe\">\n",
       "  <thead>\n",
       "    <tr style=\"text-align: right;\">\n",
       "      <th></th>\n",
       "      <th>Data</th>\n",
       "      <th>Sentiment</th>\n",
       "    </tr>\n",
       "  </thead>\n",
       "  <tbody>\n",
       "    <tr>\n",
       "      <th>0</th>\n",
       "      <td>Path: cantaloupe.srv.cs.cmu.edu!magnesium.club...</td>\n",
       "      <td>positive</td>\n",
       "    </tr>\n",
       "    <tr>\n",
       "      <th>1</th>\n",
       "      <td>Newsgroups: alt.atheism\\nPath: cantaloupe.srv....</td>\n",
       "      <td>negative</td>\n",
       "    </tr>\n",
       "    <tr>\n",
       "      <th>2</th>\n",
       "      <td>Path: cantaloupe.srv.cs.cmu.edu!das-news.harva...</td>\n",
       "      <td>positive</td>\n",
       "    </tr>\n",
       "    <tr>\n",
       "      <th>3</th>\n",
       "      <td>Path: cantaloupe.srv.cs.cmu.edu!magnesium.club...</td>\n",
       "      <td>positive</td>\n",
       "    </tr>\n",
       "    <tr>\n",
       "      <th>4</th>\n",
       "      <td>Xref: cantaloupe.srv.cs.cmu.edu alt.atheism:53...</td>\n",
       "      <td>positive</td>\n",
       "    </tr>\n",
       "  </tbody>\n",
       "</table>\n",
       "</div>"
      ],
      "text/plain": [
       "                                                Data Sentiment\n",
       "0  Path: cantaloupe.srv.cs.cmu.edu!magnesium.club...  positive\n",
       "1  Newsgroups: alt.atheism\\nPath: cantaloupe.srv....  negative\n",
       "2  Path: cantaloupe.srv.cs.cmu.edu!das-news.harva...  positive\n",
       "3  Path: cantaloupe.srv.cs.cmu.edu!magnesium.club...  positive\n",
       "4  Xref: cantaloupe.srv.cs.cmu.edu alt.atheism:53...  positive"
      ]
     },
     "execution_count": 30,
     "metadata": {},
     "output_type": "execute_result"
    }
   ],
   "source": [
    "df['Sentiment'] = df['Data'].apply(get_sentiment)\n",
    "df[['Data', 'Sentiment']].head()"
   ]
  },
  {
   "cell_type": "code",
   "execution_count": null,
   "id": "5a3e1c9a-71ed-4166-bf3c-7786d56ebc29",
   "metadata": {},
   "outputs": [],
   "source": [
    "# Distribution of sentiments across categories"
   ]
  },
  {
   "cell_type": "code",
   "execution_count": 31,
   "id": "e870dc9f-a2d6-4395-b7cd-d584c314f82c",
   "metadata": {},
   "outputs": [
    {
     "data": {
      "text/html": [
       "<div>\n",
       "<style scoped>\n",
       "    .dataframe tbody tr th:only-of-type {\n",
       "        vertical-align: middle;\n",
       "    }\n",
       "\n",
       "    .dataframe tbody tr th {\n",
       "        vertical-align: top;\n",
       "    }\n",
       "\n",
       "    .dataframe thead th {\n",
       "        text-align: right;\n",
       "    }\n",
       "</style>\n",
       "<table border=\"1\" class=\"dataframe\">\n",
       "  <thead>\n",
       "    <tr style=\"text-align: right;\">\n",
       "      <th>Sentiment</th>\n",
       "      <th>negative</th>\n",
       "      <th>positive</th>\n",
       "    </tr>\n",
       "    <tr>\n",
       "      <th>Labels</th>\n",
       "      <th></th>\n",
       "      <th></th>\n",
       "    </tr>\n",
       "  </thead>\n",
       "  <tbody>\n",
       "    <tr>\n",
       "      <th>alt.atheism</th>\n",
       "      <td>0.23</td>\n",
       "      <td>0.77</td>\n",
       "    </tr>\n",
       "    <tr>\n",
       "      <th>comp.graphics</th>\n",
       "      <td>0.24</td>\n",
       "      <td>0.76</td>\n",
       "    </tr>\n",
       "    <tr>\n",
       "      <th>comp.os.ms-windows.misc</th>\n",
       "      <td>0.22</td>\n",
       "      <td>0.78</td>\n",
       "    </tr>\n",
       "    <tr>\n",
       "      <th>comp.sys.ibm.pc.hardware</th>\n",
       "      <td>0.20</td>\n",
       "      <td>0.80</td>\n",
       "    </tr>\n",
       "    <tr>\n",
       "      <th>comp.sys.mac.hardware</th>\n",
       "      <td>0.24</td>\n",
       "      <td>0.76</td>\n",
       "    </tr>\n",
       "    <tr>\n",
       "      <th>comp.windows.x</th>\n",
       "      <td>0.27</td>\n",
       "      <td>0.73</td>\n",
       "    </tr>\n",
       "    <tr>\n",
       "      <th>misc.forsale</th>\n",
       "      <td>0.16</td>\n",
       "      <td>0.84</td>\n",
       "    </tr>\n",
       "    <tr>\n",
       "      <th>rec.autos</th>\n",
       "      <td>0.17</td>\n",
       "      <td>0.83</td>\n",
       "    </tr>\n",
       "    <tr>\n",
       "      <th>rec.motorcycles</th>\n",
       "      <td>0.26</td>\n",
       "      <td>0.74</td>\n",
       "    </tr>\n",
       "    <tr>\n",
       "      <th>rec.sport.baseball</th>\n",
       "      <td>0.29</td>\n",
       "      <td>0.71</td>\n",
       "    </tr>\n",
       "    <tr>\n",
       "      <th>rec.sport.hockey</th>\n",
       "      <td>0.34</td>\n",
       "      <td>0.66</td>\n",
       "    </tr>\n",
       "    <tr>\n",
       "      <th>sci.crypt</th>\n",
       "      <td>0.19</td>\n",
       "      <td>0.81</td>\n",
       "    </tr>\n",
       "    <tr>\n",
       "      <th>sci.electronics</th>\n",
       "      <td>0.19</td>\n",
       "      <td>0.81</td>\n",
       "    </tr>\n",
       "    <tr>\n",
       "      <th>sci.med</th>\n",
       "      <td>0.29</td>\n",
       "      <td>0.71</td>\n",
       "    </tr>\n",
       "    <tr>\n",
       "      <th>sci.space</th>\n",
       "      <td>0.27</td>\n",
       "      <td>0.73</td>\n",
       "    </tr>\n",
       "    <tr>\n",
       "      <th>soc.religion.christian</th>\n",
       "      <td>0.13</td>\n",
       "      <td>0.87</td>\n",
       "    </tr>\n",
       "    <tr>\n",
       "      <th>talk.politics.guns</th>\n",
       "      <td>0.30</td>\n",
       "      <td>0.70</td>\n",
       "    </tr>\n",
       "    <tr>\n",
       "      <th>talk.politics.mideast</th>\n",
       "      <td>0.22</td>\n",
       "      <td>0.78</td>\n",
       "    </tr>\n",
       "    <tr>\n",
       "      <th>talk.politics.misc</th>\n",
       "      <td>0.22</td>\n",
       "      <td>0.78</td>\n",
       "    </tr>\n",
       "    <tr>\n",
       "      <th>talk.religion.misc</th>\n",
       "      <td>0.14</td>\n",
       "      <td>0.86</td>\n",
       "    </tr>\n",
       "  </tbody>\n",
       "</table>\n",
       "</div>"
      ],
      "text/plain": [
       "Sentiment                 negative  positive\n",
       "Labels                                      \n",
       "alt.atheism                   0.23      0.77\n",
       "comp.graphics                 0.24      0.76\n",
       "comp.os.ms-windows.misc       0.22      0.78\n",
       "comp.sys.ibm.pc.hardware      0.20      0.80\n",
       "comp.sys.mac.hardware         0.24      0.76\n",
       "comp.windows.x                0.27      0.73\n",
       "misc.forsale                  0.16      0.84\n",
       "rec.autos                     0.17      0.83\n",
       "rec.motorcycles               0.26      0.74\n",
       "rec.sport.baseball            0.29      0.71\n",
       "rec.sport.hockey              0.34      0.66\n",
       "sci.crypt                     0.19      0.81\n",
       "sci.electronics               0.19      0.81\n",
       "sci.med                       0.29      0.71\n",
       "sci.space                     0.27      0.73\n",
       "soc.religion.christian        0.13      0.87\n",
       "talk.politics.guns            0.30      0.70\n",
       "talk.politics.mideast         0.22      0.78\n",
       "talk.politics.misc            0.22      0.78\n",
       "talk.religion.misc            0.14      0.86"
      ]
     },
     "execution_count": 31,
     "metadata": {},
     "output_type": "execute_result"
    }
   ],
   "source": [
    "sentiment_dist = df.groupby('Labels')['Sentiment'].value_counts(normalize=True).unstack()\n",
    "sentiment_dist"
   ]
  },
  {
   "cell_type": "markdown",
   "id": "101a3ccf-5bcc-4f11-ac13-d056cad3b625",
   "metadata": {},
   "source": [
    "## Evaluation"
   ]
  },
  {
   "cell_type": "code",
   "execution_count": null,
   "id": "03a0e5be-1f21-43b9-bc0b-2f79268fcde1",
   "metadata": {},
   "outputs": [],
   "source": [
    "# Accuracy, Precision, Recall, and F1 Score"
   ]
  },
  {
   "cell_type": "code",
   "execution_count": 32,
   "id": "9286b719-e1ef-4d99-a786-a1c5354c328f",
   "metadata": {},
   "outputs": [],
   "source": [
    "accuracy = accuracy_score(y_test, y_pred)\n",
    "precision = precision_score(y_test, y_pred, average='weighted')\n",
    "recall = recall_score(y_test, y_pred, average='weighted')\n",
    "f1 = f1_score(y_test, y_pred, average='weighted')"
   ]
  },
  {
   "cell_type": "code",
   "execution_count": null,
   "id": "afa08250-df53-4ad3-b745-629351a2be3f",
   "metadata": {},
   "outputs": [],
   "source": [
    "# Print the metrics"
   ]
  },
  {
   "cell_type": "code",
   "execution_count": 33,
   "id": "cc341257-4737-4487-8cd5-2177423ac24c",
   "metadata": {},
   "outputs": [
    {
     "name": "stdout",
     "output_type": "stream",
     "text": [
      "Accuracy: 0.83\n",
      "Precision: 0.8400442312026264\n",
      "Recall: 0.83\n",
      "F1 Score: 0.8224973778455688\n"
     ]
    }
   ],
   "source": [
    "print(f\"Accuracy: {accuracy}\")\n",
    "print(f\"Precision: {precision}\")\n",
    "print(f\"Recall: {recall}\")\n",
    "print(f\"F1 Score: {f1}\")"
   ]
  },
  {
   "cell_type": "code",
   "execution_count": 34,
   "id": "b86d6f80-8920-4d61-bf63-1975402b8b30",
   "metadata": {},
   "outputs": [
    {
     "name": "stdout",
     "output_type": "stream",
     "text": [
      "                          precision    recall  f1-score   support\n",
      "\n",
      "             alt.atheism       0.53      0.89      0.67        18\n",
      "           comp.graphics       0.83      0.83      0.83        18\n",
      " comp.os.ms-windows.misc       0.78      0.82      0.80        22\n",
      "comp.sys.ibm.pc.hardware       0.77      0.80      0.78        25\n",
      "   comp.sys.mac.hardware       0.86      0.90      0.88        21\n",
      "          comp.windows.x       0.91      0.84      0.87        25\n",
      "            misc.forsale       0.92      0.67      0.77        18\n",
      "               rec.autos       0.94      0.94      0.94        18\n",
      "         rec.motorcycles       0.83      0.94      0.88        16\n",
      "      rec.sport.baseball       0.78      1.00      0.88        18\n",
      "        rec.sport.hockey       0.94      1.00      0.97        15\n",
      "               sci.crypt       0.86      0.95      0.90        19\n",
      "         sci.electronics       0.75      0.75      0.75        16\n",
      "                 sci.med       0.88      0.88      0.88        17\n",
      "               sci.space       1.00      0.86      0.92        21\n",
      "  soc.religion.christian       0.85      0.96      0.90        23\n",
      "      talk.politics.guns       0.88      0.75      0.81        28\n",
      "   talk.politics.mideast       0.95      0.90      0.92        20\n",
      "      talk.politics.misc       0.76      0.89      0.82        18\n",
      "      talk.religion.misc       0.75      0.25      0.38        24\n",
      "\n",
      "                accuracy                           0.83       400\n",
      "               macro avg       0.84      0.84      0.83       400\n",
      "            weighted avg       0.84      0.83      0.82       400\n",
      "\n"
     ]
    }
   ],
   "source": [
    "# Detailed classification report\n",
    "print(classification_report(y_test, y_pred))"
   ]
  },
  {
   "cell_type": "code",
   "execution_count": null,
   "id": "cfde6e07-e29c-43fc-851c-760c97afcdb9",
   "metadata": {},
   "outputs": [],
   "source": [
    "# Print sentiment distribution summary"
   ]
  },
  {
   "cell_type": "code",
   "execution_count": 35,
   "id": "4e362f1e-4c7d-44f9-8fdf-34dea02e7f2a",
   "metadata": {},
   "outputs": [
    {
     "name": "stdout",
     "output_type": "stream",
     "text": [
      "Sentiment Distribution by Category:\n",
      "Sentiment                 negative  positive\n",
      "Labels                                      \n",
      "alt.atheism                   0.23      0.77\n",
      "comp.graphics                 0.24      0.76\n",
      "comp.os.ms-windows.misc       0.22      0.78\n",
      "comp.sys.ibm.pc.hardware      0.20      0.80\n",
      "comp.sys.mac.hardware         0.24      0.76\n",
      "comp.windows.x                0.27      0.73\n",
      "misc.forsale                  0.16      0.84\n",
      "rec.autos                     0.17      0.83\n",
      "rec.motorcycles               0.26      0.74\n",
      "rec.sport.baseball            0.29      0.71\n",
      "rec.sport.hockey              0.34      0.66\n",
      "sci.crypt                     0.19      0.81\n",
      "sci.electronics               0.19      0.81\n",
      "sci.med                       0.29      0.71\n",
      "sci.space                     0.27      0.73\n",
      "soc.religion.christian        0.13      0.87\n",
      "talk.politics.guns            0.30      0.70\n",
      "talk.politics.mideast         0.22      0.78\n",
      "talk.politics.misc            0.22      0.78\n",
      "talk.religion.misc            0.14      0.86\n"
     ]
    }
   ],
   "source": [
    "print(\"Sentiment Distribution by Category:\")\n",
    "print(sentiment_dist)"
   ]
  },
  {
   "cell_type": "code",
   "execution_count": null,
   "id": "092fc805-41ff-46e9-a087-c1df93c367b9",
   "metadata": {},
   "outputs": [],
   "source": []
  },
  {
   "cell_type": "code",
   "execution_count": null,
   "id": "47b1a8ec-819b-4037-bf0b-0186dbd68bce",
   "metadata": {},
   "outputs": [],
   "source": []
  }
 ],
 "metadata": {
  "kernelspec": {
   "display_name": "Python 3 (ipykernel)",
   "language": "python",
   "name": "python3"
  },
  "language_info": {
   "codemirror_mode": {
    "name": "ipython",
    "version": 3
   },
   "file_extension": ".py",
   "mimetype": "text/x-python",
   "name": "python",
   "nbconvert_exporter": "python",
   "pygments_lexer": "ipython3",
   "version": "3.11.7"
  }
 },
 "nbformat": 4,
 "nbformat_minor": 5
}
