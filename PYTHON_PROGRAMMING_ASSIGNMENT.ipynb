{
 "cells": [
  {
   "cell_type": "markdown",
   "id": "d8e9caa5-4101-4eab-a3ea-898eadcd297e",
   "metadata": {},
   "source": [
    "### Exercise 1: Prime Numbers"
   ]
  },
  {
   "cell_type": "markdown",
   "id": "79eb5e30-d1be-4562-85f2-586c72590bde",
   "metadata": {},
   "source": [
    "Write a Python program that checks whether a given number is prime or not. A prime number is a natural number greater than 1 that has no positive divisors other than 1 and itself."
   ]
  },
  {
   "cell_type": "code",
   "execution_count": 1,
   "id": "65fe5c23-bc4a-400f-9f79-9b5faa1cb5df",
   "metadata": {},
   "outputs": [
    {
     "name": "stdin",
     "output_type": "stream",
     "text": [
      "Enter a number:  11\n"
     ]
    },
    {
     "name": "stdout",
     "output_type": "stream",
     "text": [
      "11 is prime number\n"
     ]
    }
   ],
   "source": [
    "def is_prime(num):\n",
    "    if num<= 1:   # num is less than 1 then it return false\n",
    "        return False\n",
    "    for i in range(2, num):\n",
    "        if num % i == 0:   # num value remainder is 0 then it return false\n",
    "            return False\n",
    "    return True         # both condition is false then return True\n",
    "\n",
    "num = int(input(\"Enter a number: \"))  #input a number from user\n",
    "if is_prime(num):                     #check num is prime or not\n",
    "    print(num, \"is prime number\")      \n",
    "else:\n",
    "    print(num, \"is not prime number\")  "
   ]
  },
  {
   "cell_type": "markdown",
   "id": "79c647d9-0ff2-4115-a28a-7612f3a92f7b",
   "metadata": {},
   "source": [
    "### Exercise 2: Product of Random Numbers"
   ]
  },
  {
   "cell_type": "markdown",
   "id": "35edca32-71e6-4bdc-b7d7-5a3350b5f440",
   "metadata": {},
   "source": [
    "Develop a Python program that generates two random numbers and asks the user to enter the product of these numbers. The program should then check if the user's answer is correct and display an appropriate message."
   ]
  },
  {
   "cell_type": "code",
   "execution_count": 2,
   "id": "9d5e2105-7792-450c-bfda-919425365929",
   "metadata": {},
   "outputs": [],
   "source": [
    "import random"
   ]
  },
  {
   "cell_type": "code",
   "execution_count": 5,
   "id": "8d7883e8-f1b6-4598-920f-6466258edcbf",
   "metadata": {},
   "outputs": [
    {
     "name": "stdin",
     "output_type": "stream",
     "text": [
      "What is the product of 6 and 10?:  55\n"
     ]
    },
    {
     "name": "stdout",
     "output_type": "stream",
     "text": [
      "Sorry, your answer is incorrect. The correct product is 60.\n"
     ]
    }
   ],
   "source": [
    "num1 = random.randint(1, 10)  #create two random variables\n",
    "num2 = random.randint(1, 10)\n",
    "\n",
    "user_answer = int(input(f\"What is the product of {num1} and {num2} ?: \"))  # Ask the user to enter the product\n",
    "\n",
    "if user_answer == num1 * num2:              # Check if the user answer is correct or not\n",
    "    print(f\"your answer is correct. The product of these number is \", num1 * num2)\n",
    "else:\n",
    "    print(f\"Sorry, your answer is incorrect. The correct product is {num1 * num2}.\")"
   ]
  },
  {
   "cell_type": "markdown",
   "id": "1f0a0cfe-f665-4886-81bd-cb959cdff9cd",
   "metadata": {},
   "source": [
    "### Exercise 3: Squares of Even/Odd Numbers"
   ]
  },
  {
   "cell_type": "markdown",
   "id": "95b66a64-25d9-43a9-b2d1-1eac014e2ffe",
   "metadata": {},
   "source": [
    "Create a Python script that prints the squares of all even  numbers within the range of 100 to 200. "
   ]
  },
  {
   "cell_type": "code",
   "execution_count": 6,
   "id": "49450132-25ec-4543-9db8-b6c2f1a846a8",
   "metadata": {},
   "outputs": [
    {
     "name": "stdout",
     "output_type": "stream",
     "text": [
      "Squares of even numbers between 100 and 200:\n",
      "10000\n",
      "10404\n",
      "10816\n",
      "11236\n",
      "11664\n",
      "12100\n",
      "12544\n",
      "12996\n",
      "13456\n",
      "13924\n",
      "14400\n",
      "14884\n",
      "15376\n",
      "15876\n",
      "16384\n",
      "16900\n",
      "17424\n",
      "17956\n",
      "18496\n",
      "19044\n",
      "19600\n",
      "20164\n",
      "20736\n",
      "21316\n",
      "21904\n",
      "22500\n",
      "23104\n",
      "23716\n",
      "24336\n",
      "24964\n",
      "25600\n",
      "26244\n",
      "26896\n",
      "27556\n",
      "28224\n",
      "28900\n",
      "29584\n",
      "30276\n",
      "30976\n",
      "31684\n",
      "32400\n",
      "33124\n",
      "33856\n",
      "34596\n",
      "35344\n",
      "36100\n",
      "36864\n",
      "37636\n",
      "38416\n",
      "39204\n",
      "40000\n"
     ]
    }
   ],
   "source": [
    "# Choose even numbers\n",
    "print(\"Squares of even numbers between 100 and 200:\")\n",
    "\n",
    "for num in range(100, 201):\n",
    "    if num % 2 == 0:          # Check if the number is even\n",
    "        print(num ** 2)"
   ]
  },
  {
   "cell_type": "markdown",
   "id": "387417e8-cfe8-4959-8c64-293aa29c9e0e",
   "metadata": {},
   "source": [
    "### Exercise 4: Word counter"
   ]
  },
  {
   "cell_type": "markdown",
   "id": "8ee3f0a1-3a35-471b-b852-dcd39f5fb7fa",
   "metadata": {},
   "source": [
    "write a program to count the number of words in a given text."
   ]
  },
  {
   "cell_type": "code",
   "execution_count": 12,
   "id": "2e85e07c-cf9b-4d63-a694-222085f54740",
   "metadata": {},
   "outputs": [
    {
     "name": "stdin",
     "output_type": "stream",
     "text": [
      "Enter a text:  Hello World\n"
     ]
    },
    {
     "name": "stdout",
     "output_type": "stream",
     "text": [
      "Number of words: 2\n"
     ]
    }
   ],
   "source": [
    "def count_words(text):     #count_words function takes a string text as input \n",
    "    words = text.split()  # it is used to split the text into list of words\n",
    "    return len(words)     # count the number of words\n",
    "\n",
    "text = input(\"Enter a text: \")    # input text from user\n",
    "count = count_words(text)\n",
    "print(\"Number of words:\",count)"
   ]
  },
  {
   "cell_type": "markdown",
   "id": "47c2d21a-bb16-47ca-9380-89a21aacfcb0",
   "metadata": {},
   "source": [
    "### Exercise 5: Check for Palindrome"
   ]
  },
  {
   "cell_type": "markdown",
   "id": "3ca14a8b-cc36-46cd-8f23-3f979a2f53b5",
   "metadata": {},
   "source": [
    "Write a Python function called is_palindrome that takes a string as input and returns True if the string is a palindrome, and False otherwise."
   ]
  },
  {
   "cell_type": "code",
   "execution_count": 20,
   "id": "59b60a75-32cb-4c53-9d2e-3c26177fac31",
   "metadata": {},
   "outputs": [
    {
     "name": "stdin",
     "output_type": "stream",
     "text": [
      "Enter a string to check if it's a palindrome:  nayan\n"
     ]
    },
    {
     "name": "stdout",
     "output_type": "stream",
     "text": [
      "'nayan' is a palindrome.\n"
     ]
    }
   ],
   "source": [
    "def is_palindrome(s):\n",
    "    s = s.replace(\" \", \"\").lower() # Remove spaces and convert to lowercase\n",
    "    \n",
    "    return s == s[::-1]   # Compare string with its reverse\n",
    "\n",
    "input_str = input(\"Enter a string to check if it's a palindrome: \") # ask the user for string\n",
    "\n",
    "if is_palindrome(input_str):            # Check the function \n",
    "    print(f\"'{input_str}' is a palindrome.\")\n",
    "else:\n",
    "    print(f\"'{input_str}' is not a palindrome.\")"
   ]
  },
  {
   "cell_type": "code",
   "execution_count": null,
   "id": "b94fbaa5-556e-4c64-9003-a6a8ff2726b1",
   "metadata": {},
   "outputs": [],
   "source": []
  },
  {
   "cell_type": "code",
   "execution_count": null,
   "id": "63a95a35-e823-4d47-94bd-5a07ad6f2c90",
   "metadata": {},
   "outputs": [],
   "source": []
  },
  {
   "cell_type": "code",
   "execution_count": null,
   "id": "3b586e92-1b1f-446c-9638-ae918661ffc7",
   "metadata": {},
   "outputs": [],
   "source": []
  },
  {
   "cell_type": "code",
   "execution_count": null,
   "id": "e4c429d9-abca-4170-9e47-7b07d9b948cd",
   "metadata": {},
   "outputs": [],
   "source": []
  }
 ],
 "metadata": {
  "kernelspec": {
   "display_name": "Python 3 (ipykernel)",
   "language": "python",
   "name": "python3"
  },
  "language_info": {
   "codemirror_mode": {
    "name": "ipython",
    "version": 3
   },
   "file_extension": ".py",
   "mimetype": "text/x-python",
   "name": "python",
   "nbconvert_exporter": "python",
   "pygments_lexer": "ipython3",
   "version": "3.11.7"
  }
 },
 "nbformat": 4,
 "nbformat_minor": 5
}
